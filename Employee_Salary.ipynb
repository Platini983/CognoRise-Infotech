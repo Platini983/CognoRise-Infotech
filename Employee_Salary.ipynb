{
 "cells": [
  {
   "cell_type": "code",
   "execution_count": 1,
   "id": "d8134654",
   "metadata": {},
   "outputs": [],
   "source": [
    "import pandas as pd;\n",
    "import numpy as np;\n",
    "import seaborn as sns;\n",
    "import matplotlib.pyplot as plt\n",
    "\n",
    "\n",
    "import warnings\n",
    "warnings.filterwarnings('ignore')\n",
    "%matplotlib inline"
   ]
  },
  {
   "cell_type": "code",
   "execution_count": 3,
   "id": "48d346c5",
   "metadata": {},
   "outputs": [
    {
     "data": {
      "text/html": [
       "<div>\n",
       "<style scoped>\n",
       "    .dataframe tbody tr th:only-of-type {\n",
       "        vertical-align: middle;\n",
       "    }\n",
       "\n",
       "    .dataframe tbody tr th {\n",
       "        vertical-align: top;\n",
       "    }\n",
       "\n",
       "    .dataframe thead th {\n",
       "        text-align: right;\n",
       "    }\n",
       "</style>\n",
       "<table border=\"1\" class=\"dataframe\">\n",
       "  <thead>\n",
       "    <tr style=\"text-align: right;\">\n",
       "      <th></th>\n",
       "      <th>Unnamed: 0</th>\n",
       "      <th>work_year</th>\n",
       "      <th>experience_level</th>\n",
       "      <th>employment_type</th>\n",
       "      <th>job_title</th>\n",
       "      <th>salary</th>\n",
       "      <th>salary_currency</th>\n",
       "      <th>salary_in_usd</th>\n",
       "      <th>employee_residence</th>\n",
       "      <th>remote_ratio</th>\n",
       "      <th>company_location</th>\n",
       "      <th>company_size</th>\n",
       "    </tr>\n",
       "  </thead>\n",
       "  <tbody>\n",
       "    <tr>\n",
       "      <th>0</th>\n",
       "      <td>0</td>\n",
       "      <td>2020</td>\n",
       "      <td>MI</td>\n",
       "      <td>FT</td>\n",
       "      <td>Data Scientist</td>\n",
       "      <td>70000</td>\n",
       "      <td>EUR</td>\n",
       "      <td>79833</td>\n",
       "      <td>DE</td>\n",
       "      <td>0</td>\n",
       "      <td>DE</td>\n",
       "      <td>L</td>\n",
       "    </tr>\n",
       "    <tr>\n",
       "      <th>1</th>\n",
       "      <td>1</td>\n",
       "      <td>2020</td>\n",
       "      <td>SE</td>\n",
       "      <td>FT</td>\n",
       "      <td>Machine Learning Scientist</td>\n",
       "      <td>260000</td>\n",
       "      <td>USD</td>\n",
       "      <td>260000</td>\n",
       "      <td>JP</td>\n",
       "      <td>0</td>\n",
       "      <td>JP</td>\n",
       "      <td>S</td>\n",
       "    </tr>\n",
       "    <tr>\n",
       "      <th>2</th>\n",
       "      <td>2</td>\n",
       "      <td>2020</td>\n",
       "      <td>SE</td>\n",
       "      <td>FT</td>\n",
       "      <td>Big Data Engineer</td>\n",
       "      <td>85000</td>\n",
       "      <td>GBP</td>\n",
       "      <td>109024</td>\n",
       "      <td>GB</td>\n",
       "      <td>50</td>\n",
       "      <td>GB</td>\n",
       "      <td>M</td>\n",
       "    </tr>\n",
       "    <tr>\n",
       "      <th>3</th>\n",
       "      <td>3</td>\n",
       "      <td>2020</td>\n",
       "      <td>MI</td>\n",
       "      <td>FT</td>\n",
       "      <td>Product Data Analyst</td>\n",
       "      <td>20000</td>\n",
       "      <td>USD</td>\n",
       "      <td>20000</td>\n",
       "      <td>HN</td>\n",
       "      <td>0</td>\n",
       "      <td>HN</td>\n",
       "      <td>S</td>\n",
       "    </tr>\n",
       "    <tr>\n",
       "      <th>4</th>\n",
       "      <td>4</td>\n",
       "      <td>2020</td>\n",
       "      <td>SE</td>\n",
       "      <td>FT</td>\n",
       "      <td>Machine Learning Engineer</td>\n",
       "      <td>150000</td>\n",
       "      <td>USD</td>\n",
       "      <td>150000</td>\n",
       "      <td>US</td>\n",
       "      <td>50</td>\n",
       "      <td>US</td>\n",
       "      <td>L</td>\n",
       "    </tr>\n",
       "  </tbody>\n",
       "</table>\n",
       "</div>"
      ],
      "text/plain": [
       "   Unnamed: 0  work_year experience_level employment_type  \\\n",
       "0           0       2020               MI              FT   \n",
       "1           1       2020               SE              FT   \n",
       "2           2       2020               SE              FT   \n",
       "3           3       2020               MI              FT   \n",
       "4           4       2020               SE              FT   \n",
       "\n",
       "                    job_title  salary salary_currency  salary_in_usd  \\\n",
       "0              Data Scientist   70000             EUR          79833   \n",
       "1  Machine Learning Scientist  260000             USD         260000   \n",
       "2           Big Data Engineer   85000             GBP         109024   \n",
       "3        Product Data Analyst   20000             USD          20000   \n",
       "4   Machine Learning Engineer  150000             USD         150000   \n",
       "\n",
       "  employee_residence  remote_ratio company_location company_size  \n",
       "0                 DE             0               DE            L  \n",
       "1                 JP             0               JP            S  \n",
       "2                 GB            50               GB            M  \n",
       "3                 HN             0               HN            S  \n",
       "4                 US            50               US            L  "
      ]
     },
     "execution_count": 3,
     "metadata": {},
     "output_type": "execute_result"
    }
   ],
   "source": [
    "# Read of csv dataset\n",
    "\n",
    "salary_df = pd.read_csv(\"C:/Users/Platini/Desktop/Dataset/CO/Dataset/ds_salaries.csv\")\n",
    "                   \n",
    "salary_df.head()"
   ]
  },
  {
   "cell_type": "code",
   "execution_count": 5,
   "id": "252c38d3",
   "metadata": {},
   "outputs": [
    {
     "data": {
      "text/plain": [
       "Index(['Unnamed: 0', 'work_year', 'experience_level', 'employment_type',\n",
       "       'job_title', 'salary', 'salary_currency', 'salary_in_usd',\n",
       "       'employee_residence', 'remote_ratio', 'company_location',\n",
       "       'company_size'],\n",
       "      dtype='object')"
      ]
     },
     "execution_count": 5,
     "metadata": {},
     "output_type": "execute_result"
    }
   ],
   "source": [
    "salary_df.columns"
   ]
  },
  {
   "cell_type": "code",
   "execution_count": 6,
   "id": "3972a204",
   "metadata": {},
   "outputs": [
    {
     "name": "stdout",
     "output_type": "stream",
     "text": [
      "<class 'pandas.core.frame.DataFrame'>\n",
      "RangeIndex: 607 entries, 0 to 606\n",
      "Data columns (total 12 columns):\n",
      " #   Column              Non-Null Count  Dtype \n",
      "---  ------              --------------  ----- \n",
      " 0   Unnamed: 0          607 non-null    int64 \n",
      " 1   work_year           607 non-null    int64 \n",
      " 2   experience_level    607 non-null    object\n",
      " 3   employment_type     607 non-null    object\n",
      " 4   job_title           607 non-null    object\n",
      " 5   salary              607 non-null    int64 \n",
      " 6   salary_currency     607 non-null    object\n",
      " 7   salary_in_usd       607 non-null    int64 \n",
      " 8   employee_residence  607 non-null    object\n",
      " 9   remote_ratio        607 non-null    int64 \n",
      " 10  company_location    607 non-null    object\n",
      " 11  company_size        607 non-null    object\n",
      "dtypes: int64(5), object(7)\n",
      "memory usage: 57.0+ KB\n"
     ]
    }
   ],
   "source": [
    "salary_df.info()"
   ]
  },
  {
   "cell_type": "code",
   "execution_count": 8,
   "id": "6e753fb2",
   "metadata": {},
   "outputs": [],
   "source": [
    "salary_df.drop([ 'Unnamed: 0'], axis=\"columns\", inplace=True)"
   ]
  },
  {
   "cell_type": "code",
   "execution_count": 9,
   "id": "c6ddce6f",
   "metadata": {},
   "outputs": [
    {
     "name": "stdout",
     "output_type": "stream",
     "text": [
      "<class 'pandas.core.frame.DataFrame'>\n",
      "RangeIndex: 607 entries, 0 to 606\n",
      "Data columns (total 11 columns):\n",
      " #   Column              Non-Null Count  Dtype \n",
      "---  ------              --------------  ----- \n",
      " 0   work_year           607 non-null    int64 \n",
      " 1   experience_level    607 non-null    object\n",
      " 2   employment_type     607 non-null    object\n",
      " 3   job_title           607 non-null    object\n",
      " 4   salary              607 non-null    int64 \n",
      " 5   salary_currency     607 non-null    object\n",
      " 6   salary_in_usd       607 non-null    int64 \n",
      " 7   employee_residence  607 non-null    object\n",
      " 8   remote_ratio        607 non-null    int64 \n",
      " 9   company_location    607 non-null    object\n",
      " 10  company_size        607 non-null    object\n",
      "dtypes: int64(4), object(7)\n",
      "memory usage: 52.3+ KB\n"
     ]
    }
   ],
   "source": [
    "salary_df.info()"
   ]
  },
  {
   "cell_type": "code",
   "execution_count": 21,
   "id": "66a7d2a1",
   "metadata": {},
   "outputs": [
    {
     "data": {
      "text/html": [
       "<div>\n",
       "<style scoped>\n",
       "    .dataframe tbody tr th:only-of-type {\n",
       "        vertical-align: middle;\n",
       "    }\n",
       "\n",
       "    .dataframe tbody tr th {\n",
       "        vertical-align: top;\n",
       "    }\n",
       "\n",
       "    .dataframe thead th {\n",
       "        text-align: right;\n",
       "    }\n",
       "</style>\n",
       "<table border=\"1\" class=\"dataframe\">\n",
       "  <thead>\n",
       "    <tr style=\"text-align: right;\">\n",
       "      <th></th>\n",
       "      <th>salary</th>\n",
       "      <th>salary_in_usd</th>\n",
       "    </tr>\n",
       "  </thead>\n",
       "  <tbody>\n",
       "    <tr>\n",
       "      <th>count</th>\n",
       "      <td>6.070000e+02</td>\n",
       "      <td>607.000000</td>\n",
       "    </tr>\n",
       "    <tr>\n",
       "      <th>mean</th>\n",
       "      <td>3.240001e+05</td>\n",
       "      <td>112297.869852</td>\n",
       "    </tr>\n",
       "    <tr>\n",
       "      <th>std</th>\n",
       "      <td>1.544357e+06</td>\n",
       "      <td>70957.259411</td>\n",
       "    </tr>\n",
       "    <tr>\n",
       "      <th>min</th>\n",
       "      <td>4.000000e+03</td>\n",
       "      <td>2859.000000</td>\n",
       "    </tr>\n",
       "    <tr>\n",
       "      <th>25%</th>\n",
       "      <td>7.000000e+04</td>\n",
       "      <td>62726.000000</td>\n",
       "    </tr>\n",
       "    <tr>\n",
       "      <th>50%</th>\n",
       "      <td>1.150000e+05</td>\n",
       "      <td>101570.000000</td>\n",
       "    </tr>\n",
       "    <tr>\n",
       "      <th>75%</th>\n",
       "      <td>1.650000e+05</td>\n",
       "      <td>150000.000000</td>\n",
       "    </tr>\n",
       "    <tr>\n",
       "      <th>max</th>\n",
       "      <td>3.040000e+07</td>\n",
       "      <td>600000.000000</td>\n",
       "    </tr>\n",
       "  </tbody>\n",
       "</table>\n",
       "</div>"
      ],
      "text/plain": [
       "             salary  salary_in_usd\n",
       "count  6.070000e+02     607.000000\n",
       "mean   3.240001e+05  112297.869852\n",
       "std    1.544357e+06   70957.259411\n",
       "min    4.000000e+03    2859.000000\n",
       "25%    7.000000e+04   62726.000000\n",
       "50%    1.150000e+05  101570.000000\n",
       "75%    1.650000e+05  150000.000000\n",
       "max    3.040000e+07  600000.000000"
      ]
     },
     "execution_count": 21,
     "metadata": {},
     "output_type": "execute_result"
    }
   ],
   "source": [
    "salary_df[['salary','salary_in_usd']].describe()"
   ]
  },
  {
   "cell_type": "code",
   "execution_count": 17,
   "id": "d337f8f9",
   "metadata": {},
   "outputs": [
    {
     "data": {
      "text/plain": [
       "work_year             0\n",
       "experience_level      0\n",
       "employment_type       0\n",
       "job_title             0\n",
       "salary                0\n",
       "salary_currency       0\n",
       "salary_in_usd         0\n",
       "employee_residence    0\n",
       "remote_ratio          0\n",
       "company_location      0\n",
       "company_size          0\n",
       "dtype: int64"
      ]
     },
     "execution_count": 17,
     "metadata": {},
     "output_type": "execute_result"
    }
   ],
   "source": [
    "salary_df.isnull().sum()"
   ]
  },
  {
   "cell_type": "code",
   "execution_count": 22,
   "id": "f665647c",
   "metadata": {},
   "outputs": [
    {
     "name": "stdout",
     "output_type": "stream",
     "text": [
      "No of Values for work_year is 3\n",
      "No of Values for experience_level is 4\n",
      "No of Values for employment_type is 4\n",
      "No of Values for job_title is 50\n",
      "No of Values for salary is 272\n",
      "No of Values for salary_currency is 17\n",
      "No of Values for salary_in_usd is 369\n",
      "No of Values for employee_residence is 57\n",
      "No of Values for remote_ratio is 3\n",
      "No of Values for company_location is 50\n",
      "No of Values for company_size is 3\n"
     ]
    }
   ],
   "source": [
    "for i in salary_df:\n",
    "    print(\"No of Values for {} is {}\".format(i,str(salary_df[i].nunique())))"
   ]
  },
  {
   "cell_type": "code",
   "execution_count": 24,
   "id": "c7394d1f",
   "metadata": {},
   "outputs": [
    {
     "data": {
      "text/plain": [
       "(607, 11)"
      ]
     },
     "execution_count": 24,
     "metadata": {},
     "output_type": "execute_result"
    }
   ],
   "source": [
    "salary_df.shape"
   ]
  },
  {
   "cell_type": "markdown",
   "id": "38caf1e3",
   "metadata": {},
   "source": [
    "## Exploratory of data and Visualization"
   ]
  },
  {
   "cell_type": "code",
   "execution_count": 28,
   "id": "d8a9896a",
   "metadata": {},
   "outputs": [
    {
     "data": {
      "text/plain": [
       "work_year             143\n",
       "experience_level      143\n",
       "employment_type       143\n",
       "job_title             143\n",
       "salary                143\n",
       "salary_currency       143\n",
       "salary_in_usd         143\n",
       "employee_residence    143\n",
       "remote_ratio          143\n",
       "company_location      143\n",
       "company_size          143\n",
       "dtype: int64"
      ]
     },
     "execution_count": 28,
     "metadata": {},
     "output_type": "execute_result"
    }
   ],
   "source": [
    "job_titles_df = salary_df[salary_df['job_title'] == 'Data Scientist'].count()\n",
    "job_titles_df"
   ]
  },
  {
   "cell_type": "code",
   "execution_count": 35,
   "id": "dfd43edd",
   "metadata": {},
   "outputs": [
    {
     "data": {
      "text/plain": [
       "<BarContainer object of 607 artists>"
      ]
     },
     "execution_count": 35,
     "metadata": {},
     "output_type": "execute_result"
    },
    {
     "data": {
      "image/png": "[encoded data removed]",
      "text/plain": [
       "<Figure size 2880x1080 with 1 Axes>"
      ]
     },
     "metadata": {
      "needs_background": "light"
     },
     "output_type": "display_data"
    }
   ],
   "source": [
    "salary_df = pd.DataFrame(salary_df)\n",
    "y = salary_df['salary_in_usd']\n",
    "x = salary_df['job_title']\n",
    "pr = plt.figure(figsize=(40, 15))\n",
    "plt.xlabel(\"Job Title\",fontweight='bold',fontsize=20)\n",
    "plt.ylabel(\"Salary\",fontweight='bold',fontsize=20)\n",
    "plt.xticks(fontweight='bold',rotation='vertical',fontsize=20)\n",
    "plt.yticks(fontweight='bold',fontsize=15)\n",
    "plt.bar(x,y, color='c',align='center')"
   ]
  },
  {
   "cell_type": "code",
   "execution_count": 34,
   "id": "462e5ca8",
   "metadata": {},
   "outputs": [
    {
     "data": {
      "text/plain": [
       "<BarContainer object of 607 artists>"
      ]
     },
     "execution_count": 34,
     "metadata": {},
     "output_type": "execute_result"
    },
    {
     "data": {
      "image/png": "[encoded data removed]",
      "text/plain": [
       "<Figure size 2880x1080 with 1 Axes>"
      ]
     },
     "metadata": {
      "needs_background": "light"
     },
     "output_type": "display_data"
    }
   ],
   "source": [
    "salary_df = pd.DataFrame(salary_df)\n",
    "y = salary_df['salary_in_usd']\n",
    "x = salary_df['work_year']\n",
    "pr = plt.figure(figsize=(40, 15))\n",
    "plt.xlabel(\"Work Year\",fontweight='bold',fontsize=20)\n",
    "plt.ylabel(\"Salary\",fontweight='bold',fontsize=20)\n",
    "plt.xticks(fontweight='bold',rotation='vertical',fontsize=20)\n",
    "plt.yticks(fontweight='bold',fontsize=15)\n",
    "plt.bar(x,y, color='c',align='center')"
   ]
  },
  {
   "cell_type": "markdown",
   "id": "93a59c4c",
   "metadata": {},
   "source": [
    "# Ouestions And Answers"
   ]
  },
  {
   "cell_type": "markdown",
   "id": "74b46805",
   "metadata": {},
   "source": [
    "### 1. Highest Earned by Profession for Each Year (2020 - 2022)"
   ]
  },
  {
   "cell_type": "markdown",
   "id": "e8aaa006",
   "metadata": {},
   "source": [
    "In 2020;"
   ]
  },
  {
   "cell_type": "code",
   "execution_count": 37,
   "id": "b0ad41cd",
   "metadata": {},
   "outputs": [
    {
     "data": {
      "text/html": [
       "<div>\n",
       "<style scoped>\n",
       "    .dataframe tbody tr th:only-of-type {\n",
       "        vertical-align: middle;\n",
       "    }\n",
       "\n",
       "    .dataframe tbody tr th {\n",
       "        vertical-align: top;\n",
       "    }\n",
       "\n",
       "    .dataframe thead th {\n",
       "        text-align: right;\n",
       "    }\n",
       "</style>\n",
       "<table border=\"1\" class=\"dataframe\">\n",
       "  <thead>\n",
       "    <tr style=\"text-align: right;\">\n",
       "      <th></th>\n",
       "      <th>job_title</th>\n",
       "      <th>experience_level</th>\n",
       "      <th>company_size</th>\n",
       "      <th>company_location</th>\n",
       "      <th>salary_in_usd</th>\n",
       "    </tr>\n",
       "  </thead>\n",
       "  <tbody>\n",
       "    <tr>\n",
       "      <th>65</th>\n",
       "      <td>Research Scientist</td>\n",
       "      <td>MI</td>\n",
       "      <td>M</td>\n",
       "      <td>US</td>\n",
       "      <td>450000</td>\n",
       "    </tr>\n",
       "    <tr>\n",
       "      <th>44</th>\n",
       "      <td>Data Scientist</td>\n",
       "      <td>SE</td>\n",
       "      <td>L</td>\n",
       "      <td>US</td>\n",
       "      <td>412000</td>\n",
       "    </tr>\n",
       "    <tr>\n",
       "      <th>46</th>\n",
       "      <td>Director of Data Science</td>\n",
       "      <td>EX</td>\n",
       "      <td>L</td>\n",
       "      <td>US</td>\n",
       "      <td>325000</td>\n",
       "    </tr>\n",
       "    <tr>\n",
       "      <th>60</th>\n",
       "      <td>Machine Learning Scientist</td>\n",
       "      <td>SE</td>\n",
       "      <td>S</td>\n",
       "      <td>JP</td>\n",
       "      <td>260000</td>\n",
       "    </tr>\n",
       "    <tr>\n",
       "      <th>53</th>\n",
       "      <td>Machine Learning Engineer</td>\n",
       "      <td>EN</td>\n",
       "      <td>L</td>\n",
       "      <td>US</td>\n",
       "      <td>250000</td>\n",
       "    </tr>\n",
       "    <tr>\n",
       "      <th>28</th>\n",
       "      <td>Data Science Manager</td>\n",
       "      <td>SE</td>\n",
       "      <td>M</td>\n",
       "      <td>US</td>\n",
       "      <td>190200</td>\n",
       "    </tr>\n",
       "    <tr>\n",
       "      <th>51</th>\n",
       "      <td>Lead Data Scientist</td>\n",
       "      <td>SE</td>\n",
       "      <td>S</td>\n",
       "      <td>US</td>\n",
       "      <td>190000</td>\n",
       "    </tr>\n",
       "    <tr>\n",
       "      <th>22</th>\n",
       "      <td>Data Engineer</td>\n",
       "      <td>SE</td>\n",
       "      <td>L</td>\n",
       "      <td>US</td>\n",
       "      <td>188000</td>\n",
       "    </tr>\n",
       "    <tr>\n",
       "      <th>56</th>\n",
       "      <td>Machine Learning Engineer</td>\n",
       "      <td>SE</td>\n",
       "      <td>L</td>\n",
       "      <td>US</td>\n",
       "      <td>150000</td>\n",
       "    </tr>\n",
       "    <tr>\n",
       "      <th>61</th>\n",
       "      <td>Principal Data Scientist</td>\n",
       "      <td>SE</td>\n",
       "      <td>M</td>\n",
       "      <td>DE</td>\n",
       "      <td>148261</td>\n",
       "    </tr>\n",
       "  </tbody>\n",
       "</table>\n",
       "</div>"
      ],
      "text/plain": [
       "                     job_title experience_level company_size company_location  \\\n",
       "65          Research Scientist               MI            M               US   \n",
       "44              Data Scientist               SE            L               US   \n",
       "46    Director of Data Science               EX            L               US   \n",
       "60  Machine Learning Scientist               SE            S               JP   \n",
       "53   Machine Learning Engineer               EN            L               US   \n",
       "28        Data Science Manager               SE            M               US   \n",
       "51         Lead Data Scientist               SE            S               US   \n",
       "22               Data Engineer               SE            L               US   \n",
       "56   Machine Learning Engineer               SE            L               US   \n",
       "61    Principal Data Scientist               SE            M               DE   \n",
       "\n",
       "    salary_in_usd  \n",
       "65         450000  \n",
       "44         412000  \n",
       "46         325000  \n",
       "60         260000  \n",
       "53         250000  \n",
       "28         190200  \n",
       "51         190000  \n",
       "22         188000  \n",
       "56         150000  \n",
       "61         148261  "
      ]
     },
     "execution_count": 37,
     "metadata": {},
     "output_type": "execute_result"
    }
   ],
   "source": [
    "# Highest earner for all data professions in USD in 2020\n",
    "\n",
    "highest_earn_2020 = salary_df[salary_df.work_year == 2020]\n",
    "highest_earn_2020 = highest_earn_2020.groupby(['job_title', 'experience_level', 'company_size', 'company_location']).max() ['salary_in_usd'].reset_index()\n",
    "highest_earn_2020 = highest_earn_2020.sort_values('salary_in_usd', ascending= False).head(10)\n",
    "highest_earn_2020"
   ]
  },
  {
   "cell_type": "markdown",
   "id": "366a4e4a",
   "metadata": {},
   "source": [
    "Displaying the top 10, a Research Scientist with a mid level experience working in medium size company in United states, was our highest earner in 2020."
   ]
  },
  {
   "cell_type": "markdown",
   "id": "2c8af3fa",
   "metadata": {},
   "source": [
    "### For 2021;"
   ]
  },
  {
   "cell_type": "code",
   "execution_count": 38,
   "id": "027fd0ae",
   "metadata": {},
   "outputs": [
    {
     "data": {
      "text/html": [
       "<div>\n",
       "<style scoped>\n",
       "    .dataframe tbody tr th:only-of-type {\n",
       "        vertical-align: middle;\n",
       "    }\n",
       "\n",
       "    .dataframe tbody tr th {\n",
       "        vertical-align: top;\n",
       "    }\n",
       "\n",
       "    .dataframe thead th {\n",
       "        text-align: right;\n",
       "    }\n",
       "</style>\n",
       "<table border=\"1\" class=\"dataframe\">\n",
       "  <thead>\n",
       "    <tr style=\"text-align: right;\">\n",
       "      <th></th>\n",
       "      <th>job_title</th>\n",
       "      <th>experience_level</th>\n",
       "      <th>company_size</th>\n",
       "      <th>company_location</th>\n",
       "      <th>salary_in_usd</th>\n",
       "    </tr>\n",
       "  </thead>\n",
       "  <tbody>\n",
       "    <tr>\n",
       "      <th>151</th>\n",
       "      <td>Principal Data Engineer</td>\n",
       "      <td>EX</td>\n",
       "      <td>L</td>\n",
       "      <td>US</td>\n",
       "      <td>600000</td>\n",
       "    </tr>\n",
       "    <tr>\n",
       "      <th>113</th>\n",
       "      <td>Financial Data Analyst</td>\n",
       "      <td>MI</td>\n",
       "      <td>L</td>\n",
       "      <td>US</td>\n",
       "      <td>450000</td>\n",
       "    </tr>\n",
       "    <tr>\n",
       "      <th>7</th>\n",
       "      <td>Applied Machine Learning Scientist</td>\n",
       "      <td>MI</td>\n",
       "      <td>L</td>\n",
       "      <td>US</td>\n",
       "      <td>423000</td>\n",
       "    </tr>\n",
       "    <tr>\n",
       "      <th>154</th>\n",
       "      <td>Principal Data Scientist</td>\n",
       "      <td>EX</td>\n",
       "      <td>S</td>\n",
       "      <td>US</td>\n",
       "      <td>416000</td>\n",
       "    </tr>\n",
       "    <tr>\n",
       "      <th>121</th>\n",
       "      <td>Lead Data Engineer</td>\n",
       "      <td>SE</td>\n",
       "      <td>L</td>\n",
       "      <td>US</td>\n",
       "      <td>276000</td>\n",
       "    </tr>\n",
       "    <tr>\n",
       "      <th>125</th>\n",
       "      <td>ML Engineer</td>\n",
       "      <td>MI</td>\n",
       "      <td>L</td>\n",
       "      <td>US</td>\n",
       "      <td>270000</td>\n",
       "    </tr>\n",
       "    <tr>\n",
       "      <th>127</th>\n",
       "      <td>ML Engineer</td>\n",
       "      <td>SE</td>\n",
       "      <td>S</td>\n",
       "      <td>US</td>\n",
       "      <td>256000</td>\n",
       "    </tr>\n",
       "    <tr>\n",
       "      <th>109</th>\n",
       "      <td>Director of Data Science</td>\n",
       "      <td>EX</td>\n",
       "      <td>L</td>\n",
       "      <td>US</td>\n",
       "      <td>250000</td>\n",
       "    </tr>\n",
       "    <tr>\n",
       "      <th>71</th>\n",
       "      <td>Data Science Manager</td>\n",
       "      <td>SE</td>\n",
       "      <td>L</td>\n",
       "      <td>US</td>\n",
       "      <td>240000</td>\n",
       "    </tr>\n",
       "    <tr>\n",
       "      <th>156</th>\n",
       "      <td>Principal Data Scientist</td>\n",
       "      <td>SE</td>\n",
       "      <td>L</td>\n",
       "      <td>US</td>\n",
       "      <td>235000</td>\n",
       "    </tr>\n",
       "  </tbody>\n",
       "</table>\n",
       "</div>"
      ],
      "text/plain": [
       "                              job_title experience_level company_size  \\\n",
       "151             Principal Data Engineer               EX            L   \n",
       "113              Financial Data Analyst               MI            L   \n",
       "7    Applied Machine Learning Scientist               MI            L   \n",
       "154            Principal Data Scientist               EX            S   \n",
       "121                  Lead Data Engineer               SE            L   \n",
       "125                         ML Engineer               MI            L   \n",
       "127                         ML Engineer               SE            S   \n",
       "109            Director of Data Science               EX            L   \n",
       "71                 Data Science Manager               SE            L   \n",
       "156            Principal Data Scientist               SE            L   \n",
       "\n",
       "    company_location  salary_in_usd  \n",
       "151               US         600000  \n",
       "113               US         450000  \n",
       "7                 US         423000  \n",
       "154               US         416000  \n",
       "121               US         276000  \n",
       "125               US         270000  \n",
       "127               US         256000  \n",
       "109               US         250000  \n",
       "71                US         240000  \n",
       "156               US         235000  "
      ]
     },
     "execution_count": 38,
     "metadata": {},
     "output_type": "execute_result"
    }
   ],
   "source": [
    "# Highest earner for all data professions in USD in 2021\n",
    "\n",
    "highest_earn_2021 = salary_df[salary_df.work_year == 2021]\n",
    "highest_earn_2021 = highest_earn_2021.groupby(['job_title', 'experience_level', 'company_size', 'company_location']).max() ['salary_in_usd'].reset_index()\n",
    "highest_earn_2021 = highest_earn_2021.sort_values('salary_in_usd', ascending= False).head(10)\n",
    "highest_earn_2021"
   ]
  },
  {
   "cell_type": "markdown",
   "id": "ea2b1457",
   "metadata": {},
   "source": [
    "For 2021, a Principal Data Engineer with a Executive level experience working in large size company in United states, was our highest earner."
   ]
  },
  {
   "cell_type": "markdown",
   "id": "238f0b3e",
   "metadata": {},
   "source": [
    "### For 2022;"
   ]
  },
  {
   "cell_type": "code",
   "execution_count": 39,
   "id": "40628e01",
   "metadata": {},
   "outputs": [
    {
     "data": {
      "text/html": [
       "<div>\n",
       "<style scoped>\n",
       "    .dataframe tbody tr th:only-of-type {\n",
       "        vertical-align: middle;\n",
       "    }\n",
       "\n",
       "    .dataframe tbody tr th {\n",
       "        vertical-align: top;\n",
       "    }\n",
       "\n",
       "    .dataframe thead th {\n",
       "        text-align: right;\n",
       "    }\n",
       "</style>\n",
       "<table border=\"1\" class=\"dataframe\">\n",
       "  <thead>\n",
       "    <tr style=\"text-align: right;\">\n",
       "      <th></th>\n",
       "      <th>job_title</th>\n",
       "      <th>experience_level</th>\n",
       "      <th>company_size</th>\n",
       "      <th>company_location</th>\n",
       "      <th>salary_in_usd</th>\n",
       "    </tr>\n",
       "  </thead>\n",
       "  <tbody>\n",
       "    <tr>\n",
       "      <th>25</th>\n",
       "      <td>Data Analytics Lead</td>\n",
       "      <td>SE</td>\n",
       "      <td>L</td>\n",
       "      <td>US</td>\n",
       "      <td>405000</td>\n",
       "    </tr>\n",
       "    <tr>\n",
       "      <th>5</th>\n",
       "      <td>Applied Data Scientist</td>\n",
       "      <td>SE</td>\n",
       "      <td>L</td>\n",
       "      <td>US</td>\n",
       "      <td>380000</td>\n",
       "    </tr>\n",
       "    <tr>\n",
       "      <th>33</th>\n",
       "      <td>Data Engineer</td>\n",
       "      <td>EX</td>\n",
       "      <td>M</td>\n",
       "      <td>US</td>\n",
       "      <td>324000</td>\n",
       "    </tr>\n",
       "    <tr>\n",
       "      <th>28</th>\n",
       "      <td>Data Architect</td>\n",
       "      <td>SE</td>\n",
       "      <td>M</td>\n",
       "      <td>US</td>\n",
       "      <td>266400</td>\n",
       "    </tr>\n",
       "    <tr>\n",
       "      <th>61</th>\n",
       "      <td>Data Scientist</td>\n",
       "      <td>SE</td>\n",
       "      <td>M</td>\n",
       "      <td>US</td>\n",
       "      <td>260000</td>\n",
       "    </tr>\n",
       "    <tr>\n",
       "      <th>42</th>\n",
       "      <td>Data Engineer</td>\n",
       "      <td>SE</td>\n",
       "      <td>M</td>\n",
       "      <td>US</td>\n",
       "      <td>243900</td>\n",
       "    </tr>\n",
       "    <tr>\n",
       "      <th>44</th>\n",
       "      <td>Data Science Manager</td>\n",
       "      <td>MI</td>\n",
       "      <td>M</td>\n",
       "      <td>US</td>\n",
       "      <td>241000</td>\n",
       "    </tr>\n",
       "    <tr>\n",
       "      <th>67</th>\n",
       "      <td>Head of Data Science</td>\n",
       "      <td>EX</td>\n",
       "      <td>M</td>\n",
       "      <td>US</td>\n",
       "      <td>224000</td>\n",
       "    </tr>\n",
       "    <tr>\n",
       "      <th>80</th>\n",
       "      <td>Machine Learning Engineer</td>\n",
       "      <td>SE</td>\n",
       "      <td>M</td>\n",
       "      <td>US</td>\n",
       "      <td>220000</td>\n",
       "    </tr>\n",
       "    <tr>\n",
       "      <th>59</th>\n",
       "      <td>Data Scientist</td>\n",
       "      <td>SE</td>\n",
       "      <td>L</td>\n",
       "      <td>US</td>\n",
       "      <td>215300</td>\n",
       "    </tr>\n",
       "  </tbody>\n",
       "</table>\n",
       "</div>"
      ],
      "text/plain": [
       "                    job_title experience_level company_size company_location  \\\n",
       "25        Data Analytics Lead               SE            L               US   \n",
       "5      Applied Data Scientist               SE            L               US   \n",
       "33              Data Engineer               EX            M               US   \n",
       "28             Data Architect               SE            M               US   \n",
       "61             Data Scientist               SE            M               US   \n",
       "42              Data Engineer               SE            M               US   \n",
       "44       Data Science Manager               MI            M               US   \n",
       "67       Head of Data Science               EX            M               US   \n",
       "80  Machine Learning Engineer               SE            M               US   \n",
       "59             Data Scientist               SE            L               US   \n",
       "\n",
       "    salary_in_usd  \n",
       "25         405000  \n",
       "5          380000  \n",
       "33         324000  \n",
       "28         266400  \n",
       "61         260000  \n",
       "42         243900  \n",
       "44         241000  \n",
       "67         224000  \n",
       "80         220000  \n",
       "59         215300  "
      ]
     },
     "execution_count": 39,
     "metadata": {},
     "output_type": "execute_result"
    }
   ],
   "source": [
    "# Highest earner for all data professions in USD in 2022\n",
    "\n",
    "highest_earn_2022 = salary_df[salary_df.work_year == 2022]\n",
    "highest_earn_2022 = highest_earn_2022.groupby(['job_title', 'experience_level', 'company_size', 'company_location']).max() ['salary_in_usd'].reset_index()\n",
    "highest_earn_2022 = highest_earn_2022.sort_values('salary_in_usd', ascending= False).head(10)\n",
    "highest_earn_2022"
   ]
  },
  {
   "cell_type": "markdown",
   "id": "dd88241d",
   "metadata": {},
   "source": [
    "For 2022,Data Analytics Lead with a Senior level experience working in large size company in United states take the highest Salary"
   ]
  },
  {
   "cell_type": "markdown",
   "id": "46d9e0b8",
   "metadata": {},
   "source": [
    "From this analysis, we can deduce that your job title alone isn't the only factor dictating salary, hence the disparity. We need to take into consideration your experience level, company location and company size."
   ]
  },
  {
   "cell_type": "markdown",
   "id": "02d714b7",
   "metadata": {},
   "source": [
    "### 2. Average Earning Per Job Title\n",
    "let's find out on average, which job titles pay"
   ]
  },
  {
   "cell_type": "code",
   "execution_count": 42,
   "id": "1b8e5b11",
   "metadata": {},
   "outputs": [
    {
     "data": {
      "text/html": [
       "<div>\n",
       "<style scoped>\n",
       "    .dataframe tbody tr th:only-of-type {\n",
       "        vertical-align: middle;\n",
       "    }\n",
       "\n",
       "    .dataframe tbody tr th {\n",
       "        vertical-align: top;\n",
       "    }\n",
       "\n",
       "    .dataframe thead th {\n",
       "        text-align: right;\n",
       "    }\n",
       "</style>\n",
       "<table border=\"1\" class=\"dataframe\">\n",
       "  <thead>\n",
       "    <tr style=\"text-align: right;\">\n",
       "      <th></th>\n",
       "      <th>job_title</th>\n",
       "      <th>salary_in_usd</th>\n",
       "    </tr>\n",
       "  </thead>\n",
       "  <tbody>\n",
       "    <tr>\n",
       "      <th>14</th>\n",
       "      <td>Data Analytics Lead</td>\n",
       "      <td>405000.000000</td>\n",
       "    </tr>\n",
       "    <tr>\n",
       "      <th>45</th>\n",
       "      <td>Principal Data Engineer</td>\n",
       "      <td>328333.333333</td>\n",
       "    </tr>\n",
       "    <tr>\n",
       "      <th>28</th>\n",
       "      <td>Financial Data Analyst</td>\n",
       "      <td>275000.000000</td>\n",
       "    </tr>\n",
       "    <tr>\n",
       "      <th>46</th>\n",
       "      <td>Principal Data Scientist</td>\n",
       "      <td>215242.428571</td>\n",
       "    </tr>\n",
       "    <tr>\n",
       "      <th>25</th>\n",
       "      <td>Director of Data Science</td>\n",
       "      <td>195074.000000</td>\n",
       "    </tr>\n",
       "    <tr>\n",
       "      <th>16</th>\n",
       "      <td>Data Architect</td>\n",
       "      <td>177873.909091</td>\n",
       "    </tr>\n",
       "    <tr>\n",
       "      <th>3</th>\n",
       "      <td>Applied Data Scientist</td>\n",
       "      <td>175655.000000</td>\n",
       "    </tr>\n",
       "    <tr>\n",
       "      <th>2</th>\n",
       "      <td>Analytics Engineer</td>\n",
       "      <td>175000.000000</td>\n",
       "    </tr>\n",
       "    <tr>\n",
       "      <th>23</th>\n",
       "      <td>Data Specialist</td>\n",
       "      <td>165000.000000</td>\n",
       "    </tr>\n",
       "    <tr>\n",
       "      <th>29</th>\n",
       "      <td>Head of Data</td>\n",
       "      <td>160162.600000</td>\n",
       "    </tr>\n",
       "  </tbody>\n",
       "</table>\n",
       "</div>"
      ],
      "text/plain": [
       "                   job_title  salary_in_usd\n",
       "14       Data Analytics Lead  405000.000000\n",
       "45   Principal Data Engineer  328333.333333\n",
       "28    Financial Data Analyst  275000.000000\n",
       "46  Principal Data Scientist  215242.428571\n",
       "25  Director of Data Science  195074.000000\n",
       "16            Data Architect  177873.909091\n",
       "3     Applied Data Scientist  175655.000000\n",
       "2         Analytics Engineer  175000.000000\n",
       "23           Data Specialist  165000.000000\n",
       "29              Head of Data  160162.600000"
      ]
     },
     "execution_count": 42,
     "metadata": {},
     "output_type": "execute_result"
    }
   ],
   "source": [
    "# Average earning per job_title\n",
    "\n",
    "average_earn_df = salary_df.groupby(['job_title']).mean() ['salary_in_usd'].reset_index()\n",
    "average_earn_df = average_earn_df.sort_values('salary_in_usd', ascending= False).head(10)\n",
    "average_earn_df"
   ]
  },
  {
   "cell_type": "code",
   "execution_count": 44,
   "id": "2dd6600e",
   "metadata": {},
   "outputs": [
    {
     "data": {
      "text/plain": [
       "<AxesSubplot:title={'center':'Average earning per job title'}, xlabel='job_title'>"
      ]
     },
     "execution_count": 44,
     "metadata": {},
     "output_type": "execute_result"
    },
    {
     "data": {
      "image/png": "[encoded data removed]",
      "text/plain": [
       "<Figure size 1080x576 with 1 Axes>"
      ]
     },
     "metadata": {
      "needs_background": "light"
     },
     "output_type": "display_data"
    }
   ],
   "source": [
    "# Displaying in bar chat:\n",
    "\n",
    "average_earn_df.plot(kind='bar', x='job_title', y='salary_in_usd', title='Average earning per job title', figsize=(15,8))"
   ]
  },
  {
   "cell_type": "markdown",
   "id": "27db4d62",
   "metadata": {},
   "source": [
    "### 3. Average Pay of Job Titles per Region\n",
    "from previous analysis, you can see that United states takes the rank as the highest paying jobs.\n",
    "we perform analysis to see how the average pay in US, compares with the rest of the region in the dataset."
   ]
  },
  {
   "cell_type": "code",
   "execution_count": 45,
   "id": "d47844fc",
   "metadata": {},
   "outputs": [
    {
     "data": {
      "text/html": [
       "<div>\n",
       "<style scoped>\n",
       "    .dataframe tbody tr th:only-of-type {\n",
       "        vertical-align: middle;\n",
       "    }\n",
       "\n",
       "    .dataframe tbody tr th {\n",
       "        vertical-align: top;\n",
       "    }\n",
       "\n",
       "    .dataframe thead th {\n",
       "        text-align: right;\n",
       "    }\n",
       "</style>\n",
       "<table border=\"1\" class=\"dataframe\">\n",
       "  <thead>\n",
       "    <tr style=\"text-align: right;\">\n",
       "      <th></th>\n",
       "      <th>job_title</th>\n",
       "      <th>salary_in_usd</th>\n",
       "    </tr>\n",
       "  </thead>\n",
       "  <tbody>\n",
       "    <tr>\n",
       "      <th>12</th>\n",
       "      <td>Data Analytics Lead</td>\n",
       "      <td>405000.000000</td>\n",
       "    </tr>\n",
       "    <tr>\n",
       "      <th>35</th>\n",
       "      <td>Principal Data Engineer</td>\n",
       "      <td>328333.333333</td>\n",
       "    </tr>\n",
       "    <tr>\n",
       "      <th>22</th>\n",
       "      <td>Director of Data Science</td>\n",
       "      <td>287500.000000</td>\n",
       "    </tr>\n",
       "    <tr>\n",
       "      <th>23</th>\n",
       "      <td>Financial Data Analyst</td>\n",
       "      <td>275000.000000</td>\n",
       "    </tr>\n",
       "    <tr>\n",
       "      <th>29</th>\n",
       "      <td>ML Engineer</td>\n",
       "      <td>263000.000000</td>\n",
       "    </tr>\n",
       "    <tr>\n",
       "      <th>36</th>\n",
       "      <td>Principal Data Scientist</td>\n",
       "      <td>255500.000000</td>\n",
       "    </tr>\n",
       "    <tr>\n",
       "      <th>2</th>\n",
       "      <td>Applied Data Scientist</td>\n",
       "      <td>238000.000000</td>\n",
       "    </tr>\n",
       "    <tr>\n",
       "      <th>24</th>\n",
       "      <td>Head of Data</td>\n",
       "      <td>217500.000000</td>\n",
       "    </tr>\n",
       "    <tr>\n",
       "      <th>21</th>\n",
       "      <td>Director of Data Engineering</td>\n",
       "      <td>200000.000000</td>\n",
       "    </tr>\n",
       "    <tr>\n",
       "      <th>31</th>\n",
       "      <td>Machine Learning Infrastructure Engineer</td>\n",
       "      <td>195000.000000</td>\n",
       "    </tr>\n",
       "  </tbody>\n",
       "</table>\n",
       "</div>"
      ],
      "text/plain": [
       "                                   job_title  salary_in_usd\n",
       "12                       Data Analytics Lead  405000.000000\n",
       "35                   Principal Data Engineer  328333.333333\n",
       "22                  Director of Data Science  287500.000000\n",
       "23                    Financial Data Analyst  275000.000000\n",
       "29                               ML Engineer  263000.000000\n",
       "36                  Principal Data Scientist  255500.000000\n",
       "2                     Applied Data Scientist  238000.000000\n",
       "24                              Head of Data  217500.000000\n",
       "21              Director of Data Engineering  200000.000000\n",
       "31  Machine Learning Infrastructure Engineer  195000.000000"
      ]
     },
     "execution_count": 45,
     "metadata": {},
     "output_type": "execute_result"
    }
   ],
   "source": [
    "# Average pay of job titles per region\n",
    "# US:\n",
    "\n",
    "pay_us_df = salary_df[salary_df.company_location=='US']\n",
    "pay_us_df = pay_us_df.groupby(['job_title']).mean() ['salary_in_usd'].reset_index()\n",
    "pay_us_df = pay_us_df.sort_values('salary_in_usd', ascending= False).head(10)\n",
    "pay_us_df"
   ]
  },
  {
   "cell_type": "markdown",
   "id": "1a174219",
   "metadata": {},
   "source": [
    "#### Comparing this with the rest of the regions:"
   ]
  },
  {
   "cell_type": "code",
   "execution_count": 46,
   "id": "29f9c8dc",
   "metadata": {},
   "outputs": [
    {
     "data": {
      "text/html": [
       "<div>\n",
       "<style scoped>\n",
       "    .dataframe tbody tr th:only-of-type {\n",
       "        vertical-align: middle;\n",
       "    }\n",
       "\n",
       "    .dataframe tbody tr th {\n",
       "        vertical-align: top;\n",
       "    }\n",
       "\n",
       "    .dataframe thead th {\n",
       "        text-align: right;\n",
       "    }\n",
       "</style>\n",
       "<table border=\"1\" class=\"dataframe\">\n",
       "  <thead>\n",
       "    <tr style=\"text-align: right;\">\n",
       "      <th></th>\n",
       "      <th>job_title</th>\n",
       "      <th>salary_in_usd</th>\n",
       "    </tr>\n",
       "  </thead>\n",
       "  <tbody>\n",
       "    <tr>\n",
       "      <th>36</th>\n",
       "      <td>Machine Learning Scientist</td>\n",
       "      <td>165666.666667</td>\n",
       "    </tr>\n",
       "    <tr>\n",
       "      <th>39</th>\n",
       "      <td>Principal Data Scientist</td>\n",
       "      <td>161565.666667</td>\n",
       "    </tr>\n",
       "    <tr>\n",
       "      <th>21</th>\n",
       "      <td>Director of Data Science</td>\n",
       "      <td>158103.600000</td>\n",
       "    </tr>\n",
       "    <tr>\n",
       "      <th>10</th>\n",
       "      <td>Computer Vision Software Engineer</td>\n",
       "      <td>150000.000000</td>\n",
       "    </tr>\n",
       "    <tr>\n",
       "      <th>13</th>\n",
       "      <td>Data Architect</td>\n",
       "      <td>141550.000000</td>\n",
       "    </tr>\n",
       "    <tr>\n",
       "      <th>18</th>\n",
       "      <td>Data Science Manager</td>\n",
       "      <td>123332.500000</td>\n",
       "    </tr>\n",
       "    <tr>\n",
       "      <th>24</th>\n",
       "      <td>Head of Data</td>\n",
       "      <td>121937.666667</td>\n",
       "    </tr>\n",
       "    <tr>\n",
       "      <th>35</th>\n",
       "      <td>Machine Learning Manager</td>\n",
       "      <td>117104.000000</td>\n",
       "    </tr>\n",
       "    <tr>\n",
       "      <th>28</th>\n",
       "      <td>Lead Data Engineer</td>\n",
       "      <td>115449.000000</td>\n",
       "    </tr>\n",
       "    <tr>\n",
       "      <th>20</th>\n",
       "      <td>Director of Data Engineering</td>\n",
       "      <td>113476.000000</td>\n",
       "    </tr>\n",
       "  </tbody>\n",
       "</table>\n",
       "</div>"
      ],
      "text/plain": [
       "                            job_title  salary_in_usd\n",
       "36         Machine Learning Scientist  165666.666667\n",
       "39           Principal Data Scientist  161565.666667\n",
       "21           Director of Data Science  158103.600000\n",
       "10  Computer Vision Software Engineer  150000.000000\n",
       "13                     Data Architect  141550.000000\n",
       "18               Data Science Manager  123332.500000\n",
       "24                       Head of Data  121937.666667\n",
       "35           Machine Learning Manager  117104.000000\n",
       "28                 Lead Data Engineer  115449.000000\n",
       "20       Director of Data Engineering  113476.000000"
      ]
     },
     "execution_count": 46,
     "metadata": {},
     "output_type": "execute_result"
    }
   ],
   "source": [
    "# Average pay of job titles per region\n",
    "# Rest of the region:\n",
    "\n",
    "pay_out_df = salary_df[salary_df.company_location!='US']\n",
    "pay_out_df = pay_out_df.groupby(['job_title']).mean() ['salary_in_usd'].reset_index()\n",
    "pay_out_df = pay_out_df.sort_values('salary_in_usd', ascending= False).head(10)\n",
    "pay_out_df"
   ]
  },
  {
   "cell_type": "markdown",
   "id": "4c484efa",
   "metadata": {},
   "source": [
    "Comparing both results"
   ]
  },
  {
   "cell_type": "code",
   "execution_count": 47,
   "id": "d1f38174",
   "metadata": {},
   "outputs": [
    {
     "data": {
      "text/html": [
       "<div>\n",
       "<style scoped>\n",
       "    .dataframe tbody tr th:only-of-type {\n",
       "        vertical-align: middle;\n",
       "    }\n",
       "\n",
       "    .dataframe tbody tr th {\n",
       "        vertical-align: top;\n",
       "    }\n",
       "\n",
       "    .dataframe thead th {\n",
       "        text-align: right;\n",
       "    }\n",
       "</style>\n",
       "<table border=\"1\" class=\"dataframe\">\n",
       "  <thead>\n",
       "    <tr style=\"text-align: right;\">\n",
       "      <th></th>\n",
       "      <th>job_title</th>\n",
       "      <th>salary_in_usd_x</th>\n",
       "      <th>salary_in_usd_y</th>\n",
       "    </tr>\n",
       "  </thead>\n",
       "  <tbody>\n",
       "    <tr>\n",
       "      <th>2</th>\n",
       "      <td>Director of Data Science</td>\n",
       "      <td>287500.0</td>\n",
       "      <td>158103.600000</td>\n",
       "    </tr>\n",
       "    <tr>\n",
       "      <th>5</th>\n",
       "      <td>Principal Data Scientist</td>\n",
       "      <td>255500.0</td>\n",
       "      <td>161565.666667</td>\n",
       "    </tr>\n",
       "    <tr>\n",
       "      <th>7</th>\n",
       "      <td>Head of Data</td>\n",
       "      <td>217500.0</td>\n",
       "      <td>121937.666667</td>\n",
       "    </tr>\n",
       "    <tr>\n",
       "      <th>8</th>\n",
       "      <td>Director of Data Engineering</td>\n",
       "      <td>200000.0</td>\n",
       "      <td>113476.000000</td>\n",
       "    </tr>\n",
       "  </tbody>\n",
       "</table>\n",
       "</div>"
      ],
      "text/plain": [
       "                      job_title  salary_in_usd_x  salary_in_usd_y\n",
       "2      Director of Data Science         287500.0    158103.600000\n",
       "5      Principal Data Scientist         255500.0    161565.666667\n",
       "7                  Head of Data         217500.0    121937.666667\n",
       "8  Director of Data Engineering         200000.0    113476.000000"
      ]
     },
     "execution_count": 47,
     "metadata": {},
     "output_type": "execute_result"
    }
   ],
   "source": [
    "compare = pd.merge(pay_us_df,pay_out_df[['job_title', 'salary_in_usd']],on='job_title', how='left').dropna().head(10)\n",
    "compare"
   ]
  },
  {
   "cell_type": "code",
   "execution_count": 53,
   "id": "a94ebdb2",
   "metadata": {},
   "outputs": [
    {
     "data": {
      "text/plain": [
       "<AxesSubplot:title={'center':'Comparison of average pay per job title for US Companies to Non-US Companies'}, xlabel='job_title'>"
      ]
     },
     "execution_count": 53,
     "metadata": {},
     "output_type": "execute_result"
    },
    {
     "data": {
      "image/png": "[encoded data removed]",
      "text/plain": [
       "<Figure size 1080x576 with 1 Axes>"
      ]
     },
     "metadata": {
      "needs_background": "light"
     },
     "output_type": "display_data"
    }
   ],
   "source": [
    "compare.plot(kind='bar', figsize= (15,8), x='job_title', title='Comparison of average pay per job title for US Companies to Non-US Companies')"
   ]
  },
  {
   "cell_type": "markdown",
   "id": "0e58f845",
   "metadata": {},
   "source": [
    "Average salaries of US companies are represented by salary_usd_x and other countries are represented by salary_usd_y\n",
    "From the diagram above you can see companies from US offer more salary accros board for all positions, as compare to other countries."
   ]
  },
  {
   "cell_type": "markdown",
   "id": "d5f3ce78",
   "metadata": {},
   "source": [
    "###  4. Does Experience Level have effect on salary"
   ]
  },
  {
   "cell_type": "code",
   "execution_count": null,
   "id": "59881325",
   "metadata": {},
   "outputs": [],
   "source": [
    "# Comparing average pay by experience level\n",
    "\n",
    "exp_df = salary_df.groupby('experience_level').mean() ['salary_in_usd'].reset_index()\n",
    "exp_df = exp_df.sort_values('salary_in_usd', ascending=False)\n",
    "exp_df"
   ]
  },
  {
   "cell_type": "code",
   "execution_count": 58,
   "id": "ab23d3f0",
   "metadata": {},
   "outputs": [
    {
     "data": {
      "text/plain": [
       "<AxesSubplot:title={'center':'Experience Level on Salary'}, xlabel='experience_level'>"
      ]
     },
     "execution_count": 58,
     "metadata": {},
     "output_type": "execute_result"
    },
    {
     "data": {
      "image/png": "[encoded data removed]",
      "text/plain": [
       "<Figure size 1080x576 with 1 Axes>"
      ]
     },
     "metadata": {
      "needs_background": "light"
     },
     "output_type": "display_data"
    }
   ],
   "source": [
    "exp_df.plot(kind='bar', figsize= (15,8), x='experience_level', y='salary_in_usd', title='Experience Level on Salary')"
   ]
  },
  {
   "cell_type": "markdown",
   "id": "6c962711",
   "metadata": {},
   "source": [
    "From the graph, it shows as that Executive position takes more salary and the Entry level are the lowest of it."
   ]
  },
  {
   "cell_type": "markdown",
   "id": "80aa3d1f",
   "metadata": {},
   "source": [
    "### 5. What is the Effect of Company Size on Salary"
   ]
  },
  {
   "cell_type": "code",
   "execution_count": 60,
   "id": "a1e3d4a8",
   "metadata": {},
   "outputs": [
    {
     "data": {
      "text/html": [
       "<div>\n",
       "<style scoped>\n",
       "    .dataframe tbody tr th:only-of-type {\n",
       "        vertical-align: middle;\n",
       "    }\n",
       "\n",
       "    .dataframe tbody tr th {\n",
       "        vertical-align: top;\n",
       "    }\n",
       "\n",
       "    .dataframe thead th {\n",
       "        text-align: right;\n",
       "    }\n",
       "</style>\n",
       "<table border=\"1\" class=\"dataframe\">\n",
       "  <thead>\n",
       "    <tr style=\"text-align: right;\">\n",
       "      <th></th>\n",
       "      <th>company_size</th>\n",
       "      <th>salary_in_usd</th>\n",
       "    </tr>\n",
       "  </thead>\n",
       "  <tbody>\n",
       "    <tr>\n",
       "      <th>0</th>\n",
       "      <td>L</td>\n",
       "      <td>160967.188679</td>\n",
       "    </tr>\n",
       "    <tr>\n",
       "      <th>1</th>\n",
       "      <td>M</td>\n",
       "      <td>141446.839450</td>\n",
       "    </tr>\n",
       "    <tr>\n",
       "      <th>2</th>\n",
       "      <td>S</td>\n",
       "      <td>104570.483871</td>\n",
       "    </tr>\n",
       "  </tbody>\n",
       "</table>\n",
       "</div>"
      ],
      "text/plain": [
       "  company_size  salary_in_usd\n",
       "0            L  160967.188679\n",
       "1            M  141446.839450\n",
       "2            S  104570.483871"
      ]
     },
     "execution_count": 60,
     "metadata": {},
     "output_type": "execute_result"
    }
   ],
   "source": [
    "# Average pay of campany size per region\n",
    "# US:\n",
    "\n",
    "com_us_df = salary_df[salary_df.company_location=='US']\n",
    "com_us_df = com_us_df.groupby(['company_size']).mean() ['salary_in_usd'].reset_index()\n",
    "com_us_df = com_us_df.sort_values('salary_in_usd', ascending= False).head(10)\n",
    "com_us_df"
   ]
  },
  {
   "cell_type": "code",
   "execution_count": 61,
   "id": "41ada664",
   "metadata": {},
   "outputs": [
    {
     "data": {
      "text/html": [
       "<div>\n",
       "<style scoped>\n",
       "    .dataframe tbody tr th:only-of-type {\n",
       "        vertical-align: middle;\n",
       "    }\n",
       "\n",
       "    .dataframe tbody tr th {\n",
       "        vertical-align: top;\n",
       "    }\n",
       "\n",
       "    .dataframe thead th {\n",
       "        text-align: right;\n",
       "    }\n",
       "</style>\n",
       "<table border=\"1\" class=\"dataframe\">\n",
       "  <thead>\n",
       "    <tr style=\"text-align: right;\">\n",
       "      <th></th>\n",
       "      <th>company_size</th>\n",
       "      <th>salary_in_usd</th>\n",
       "    </tr>\n",
       "  </thead>\n",
       "  <tbody>\n",
       "    <tr>\n",
       "      <th>0</th>\n",
       "      <td>L</td>\n",
       "      <td>71169.467391</td>\n",
       "    </tr>\n",
       "    <tr>\n",
       "      <th>1</th>\n",
       "      <td>M</td>\n",
       "      <td>67368.250000</td>\n",
       "    </tr>\n",
       "    <tr>\n",
       "      <th>2</th>\n",
       "      <td>S</td>\n",
       "      <td>61573.596154</td>\n",
       "    </tr>\n",
       "  </tbody>\n",
       "</table>\n",
       "</div>"
      ],
      "text/plain": [
       "  company_size  salary_in_usd\n",
       "0            L   71169.467391\n",
       "1            M   67368.250000\n",
       "2            S   61573.596154"
      ]
     },
     "execution_count": 61,
     "metadata": {},
     "output_type": "execute_result"
    }
   ],
   "source": [
    "# Average pay of job titles per region\n",
    "# Rest of the region:\n",
    "\n",
    "com_out_df = salary_df[salary_df.company_location!='US']\n",
    "com_out_df = com_out_df.groupby(['company_size']).mean() ['salary_in_usd'].reset_index()\n",
    "com_out_df = com_out_df.sort_values('salary_in_usd', ascending= False).head(10)\n",
    "com_out_df"
   ]
  },
  {
   "cell_type": "code",
   "execution_count": 62,
   "id": "2bcc39d3",
   "metadata": {},
   "outputs": [
    {
     "data": {
      "text/html": [
       "<div>\n",
       "<style scoped>\n",
       "    .dataframe tbody tr th:only-of-type {\n",
       "        vertical-align: middle;\n",
       "    }\n",
       "\n",
       "    .dataframe tbody tr th {\n",
       "        vertical-align: top;\n",
       "    }\n",
       "\n",
       "    .dataframe thead th {\n",
       "        text-align: right;\n",
       "    }\n",
       "</style>\n",
       "<table border=\"1\" class=\"dataframe\">\n",
       "  <thead>\n",
       "    <tr style=\"text-align: right;\">\n",
       "      <th></th>\n",
       "      <th>company_size</th>\n",
       "      <th>salary_in_usd_x</th>\n",
       "      <th>salary_in_usd_y</th>\n",
       "    </tr>\n",
       "  </thead>\n",
       "  <tbody>\n",
       "    <tr>\n",
       "      <th>0</th>\n",
       "      <td>L</td>\n",
       "      <td>160967.188679</td>\n",
       "      <td>71169.467391</td>\n",
       "    </tr>\n",
       "    <tr>\n",
       "      <th>1</th>\n",
       "      <td>M</td>\n",
       "      <td>141446.839450</td>\n",
       "      <td>67368.250000</td>\n",
       "    </tr>\n",
       "    <tr>\n",
       "      <th>2</th>\n",
       "      <td>S</td>\n",
       "      <td>104570.483871</td>\n",
       "      <td>61573.596154</td>\n",
       "    </tr>\n",
       "  </tbody>\n",
       "</table>\n",
       "</div>"
      ],
      "text/plain": [
       "  company_size  salary_in_usd_x  salary_in_usd_y\n",
       "0            L    160967.188679     71169.467391\n",
       "1            M    141446.839450     67368.250000\n",
       "2            S    104570.483871     61573.596154"
      ]
     },
     "execution_count": 62,
     "metadata": {},
     "output_type": "execute_result"
    }
   ],
   "source": [
    "com_us_out = pd.merge(com_us_df,com_out_df[['company_size', 'salary_in_usd']],on='company_size', how='left').dropna().head(10)\n",
    "com_us_out"
   ]
  },
  {
   "cell_type": "code",
   "execution_count": 64,
   "id": "1c56314e",
   "metadata": {},
   "outputs": [
    {
     "data": {
      "text/plain": [
       "<AxesSubplot:title={'center':'Comparison of Average Salary Per Company Size of US Companies and Non-US Companies'}, xlabel='company_size'>"
      ]
     },
     "execution_count": 64,
     "metadata": {},
     "output_type": "execute_result"
    },
    {
     "data": {
      "image/png": "[encoded data removed]",
      "text/plain": [
       "<Figure size 1080x576 with 1 Axes>"
      ]
     },
     "metadata": {
      "needs_background": "light"
     },
     "output_type": "display_data"
    }
   ],
   "source": [
    "com_us_out.plot(kind='bar', figsize= (15,8), x='company_size', title='Comparison of Average Salary Per Company Size of US Companies and Non-US Companies')"
   ]
  },
  {
   "cell_type": "markdown",
   "id": "67582dfe",
   "metadata": {},
   "source": [
    "Average salaries of US companies are represented by salary_usd_x and other countries are represented by salary_usd_y\n",
    "From the diagram above you can see companies from US offer more salary accros board for all sizes, as compare to other countries."
   ]
  },
  {
   "cell_type": "markdown",
   "id": "539e4a2c",
   "metadata": {},
   "source": [
    "### 6. What is the Effect of Remote Work on Salary"
   ]
  },
  {
   "cell_type": "code",
   "execution_count": 65,
   "id": "18d86dc9",
   "metadata": {},
   "outputs": [
    {
     "data": {
      "text/html": [
       "<div>\n",
       "<style scoped>\n",
       "    .dataframe tbody tr th:only-of-type {\n",
       "        vertical-align: middle;\n",
       "    }\n",
       "\n",
       "    .dataframe tbody tr th {\n",
       "        vertical-align: top;\n",
       "    }\n",
       "\n",
       "    .dataframe thead th {\n",
       "        text-align: right;\n",
       "    }\n",
       "</style>\n",
       "<table border=\"1\" class=\"dataframe\">\n",
       "  <thead>\n",
       "    <tr style=\"text-align: right;\">\n",
       "      <th></th>\n",
       "      <th>remote_ratio</th>\n",
       "      <th>salary_in_usd</th>\n",
       "    </tr>\n",
       "  </thead>\n",
       "  <tbody>\n",
       "    <tr>\n",
       "      <th>2</th>\n",
       "      <td>100</td>\n",
       "      <td>122457.454068</td>\n",
       "    </tr>\n",
       "    <tr>\n",
       "      <th>0</th>\n",
       "      <td>0</td>\n",
       "      <td>106354.622047</td>\n",
       "    </tr>\n",
       "    <tr>\n",
       "      <th>1</th>\n",
       "      <td>50</td>\n",
       "      <td>80823.030303</td>\n",
       "    </tr>\n",
       "  </tbody>\n",
       "</table>\n",
       "</div>"
      ],
      "text/plain": [
       "   remote_ratio  salary_in_usd\n",
       "2           100  122457.454068\n",
       "0             0  106354.622047\n",
       "1            50   80823.030303"
      ]
     },
     "execution_count": 65,
     "metadata": {},
     "output_type": "execute_result"
    }
   ],
   "source": [
    "rem_df = salary_df.groupby('remote_ratio').mean() ['salary_in_usd'].reset_index()\n",
    "rem_df = rem_df.sort_values('salary_in_usd', ascending=False)\n",
    "rem_df"
   ]
  },
  {
   "cell_type": "code",
   "execution_count": 66,
   "id": "ba8c3e9b",
   "metadata": {},
   "outputs": [
    {
     "data": {
      "text/plain": [
       "<AxesSubplot:title={'center':'Experience Level on Salary'}, xlabel='remote_ratio'>"
      ]
     },
     "execution_count": 66,
     "metadata": {},
     "output_type": "execute_result"
    },
    {
     "data": {
      "image/png": "[encoded data removed]",
      "text/plain": [
       "<Figure size 1080x576 with 1 Axes>"
      ]
     },
     "metadata": {
      "needs_background": "light"
     },
     "output_type": "display_data"
    }
   ],
   "source": [
    "rem_df.plot(kind='bar', figsize= (15,8), x='remote_ratio', y='salary_in_usd', title='Remote experience on Salary')"
   ]
  },
  {
   "cell_type": "markdown",
   "id": "86e003ce",
   "metadata": {},
   "source": [
    "### 7. What is the Effect of Employment type on Salary"
   ]
  },
  {
   "cell_type": "code",
   "execution_count": 69,
   "id": "fa02d92e",
   "metadata": {},
   "outputs": [
    {
     "data": {
      "text/html": [
       "<div>\n",
       "<style scoped>\n",
       "    .dataframe tbody tr th:only-of-type {\n",
       "        vertical-align: middle;\n",
       "    }\n",
       "\n",
       "    .dataframe tbody tr th {\n",
       "        vertical-align: top;\n",
       "    }\n",
       "\n",
       "    .dataframe thead th {\n",
       "        text-align: right;\n",
       "    }\n",
       "</style>\n",
       "<table border=\"1\" class=\"dataframe\">\n",
       "  <thead>\n",
       "    <tr style=\"text-align: right;\">\n",
       "      <th></th>\n",
       "      <th>employment_type</th>\n",
       "      <th>salary_in_usd</th>\n",
       "    </tr>\n",
       "  </thead>\n",
       "  <tbody>\n",
       "    <tr>\n",
       "      <th>0</th>\n",
       "      <td>CT</td>\n",
       "      <td>184575.000000</td>\n",
       "    </tr>\n",
       "    <tr>\n",
       "      <th>2</th>\n",
       "      <td>FT</td>\n",
       "      <td>113468.073129</td>\n",
       "    </tr>\n",
       "    <tr>\n",
       "      <th>1</th>\n",
       "      <td>FL</td>\n",
       "      <td>48000.000000</td>\n",
       "    </tr>\n",
       "    <tr>\n",
       "      <th>3</th>\n",
       "      <td>PT</td>\n",
       "      <td>33070.500000</td>\n",
       "    </tr>\n",
       "  </tbody>\n",
       "</table>\n",
       "</div>"
      ],
      "text/plain": [
       "  employment_type  salary_in_usd\n",
       "0              CT  184575.000000\n",
       "2              FT  113468.073129\n",
       "1              FL   48000.000000\n",
       "3              PT   33070.500000"
      ]
     },
     "execution_count": 69,
     "metadata": {},
     "output_type": "execute_result"
    }
   ],
   "source": [
    "emp_type_df = salary_df.groupby('employment_type').mean() ['salary_in_usd'].reset_index()\n",
    "emp_type_df = emp_type_df.sort_values('salary_in_usd', ascending=False)\n",
    "emp_type_df"
   ]
  },
  {
   "cell_type": "code",
   "execution_count": 71,
   "id": "cec42d1f",
   "metadata": {},
   "outputs": [
    {
     "data": {
      "text/plain": [
       "<AxesSubplot:title={'center':'Employment type on Salary'}, xlabel='employment_type'>"
      ]
     },
     "execution_count": 71,
     "metadata": {},
     "output_type": "execute_result"
    },
    {
     "data": {
      "image/png": "[encoded data removed]",
      "text/plain": [
       "<Figure size 1080x576 with 1 Axes>"
      ]
     },
     "metadata": {
      "needs_background": "light"
     },
     "output_type": "display_data"
    }
   ],
   "source": [
    "emp_type_df.plot(kind='bar', figsize= (15,8), x='employment_type', y='salary_in_usd', title='Employment type on Salary')"
   ]
  },
  {
   "cell_type": "markdown",
   "id": "fa6bcab3",
   "metadata": {},
   "source": []
  },
  {
   "cell_type": "markdown",
   "id": "1cbca449",
   "metadata": {},
   "source": [
    "## Conclusion"
   ]
  },
  {
   "cell_type": "markdown",
   "id": "489b9093",
   "metadata": {},
   "source": [
    "1. From our analysis, the top paying roles are Data Analytics Lead and Principal Data Engineer, However the most senior roles.\n",
    "\n",
    "2. Although entry roles pay the least, but getting the role at US will be rewarding and doing it as a remote will be advantageous because per analysis 100% remote role pay the best rate.\n",
    "\n",
    "3. Full-time roles and contract roles are most profitable employment option.\n",
    "\n",
    "4. Large Companies pay more salary than small companies naturally, howevwer, when you break the analysis further small companies in US pay more than large companies in non-US countries. Meaning getting a role in a company in US would be best way to accelerate yoour career growth.\n",
    "\n",
    "5. Average Salary is much higher in the US for the same position in oher countries"
   ]
  },
  {
   "cell_type": "code",
   "execution_count": null,
   "id": "bcd3f4fd",
   "metadata": {},
   "outputs": [],
   "source": []
  }
 ],
 "metadata": {
  "kernelspec": {
   "display_name": "Python 3 (ipykernel)",
   "language": "python",
   "name": "python3"
  },
  "language_info": {
   "codemirror_mode": {
    "name": "ipython",
    "version": 3
   },
   "file_extension": ".py",
   "mimetype": "text/x-python",
   "name": "python",
   "nbconvert_exporter": "python",
   "pygments_lexer": "ipython3",
   "version": "3.9.7"
  }
 },
 "nbformat": 4,
 "nbformat_minor": 5
}
